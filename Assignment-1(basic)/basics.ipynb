import numpy as np
l1=np.random.randint(1,11,10)
print(l1.shape)
print(l1.size)
print(type(l1))
l1

import numpy as np
l2=np.random.randint(1,10,9).reshape(3,3)
print(l2.shape)
print(l2.size)
print(type(l2))
l2

import numpy as np
l3=np.random.rand(3,5,3)
print(l3.shape)
print(l3.size)
print(type(l3))
l3

import numpy as np
data = [10, 20, 30, 40, 50, 60, 70, 80, 90]
l1=np.array(data)
print(l1[0:3])
print(l1[::2])
print(l1[::-1])

# Add, subtract, multiply, and divide the two arrays element-wise.
import numpy as np
A=np.random.randint(1,20,5)
B=np.random.randint(1,20,5)
print(A)
print(B)
add=A+B
sub=A-B
mul=A*B
div=A/B
print("Addition :",add)
print("Subtraction :",sub)
print("Multiplication :",mul)
print("Division:",div)

# Compute the dot product of the arrays.
A=np.random.randint(1,20,5)
B=np.random.randint(1,20,5)
print(A)
print(B)
dot_product = np.dot(A, B)
# Or alternatively:
# dot_product = A @ B
print(dot_product)

# Find the mean, median, standard deviation, and variance o--> array A.
A=np.random.randint(1,20,5)
B=np.random.randint(1,20,5)
print(A)
print("Mean :",np.mean(A))
print("Median :",np.median(A))
print("Standard deviation :",np.std(A))
print("Varience :",np.var(A))

# Identify the maximum and minimum values in array B and their indices
A=np.random.randint(1,20,5)
B=np.random.randint(1,20,5)
print(B)
print("Maximum :",np.max(B))
print("Minimum :",np.min(B))
print("Maximum idx :",np.argmax(B))
print("Minimum idx :",np.argmin(B))
import numpy as np

l1=np.random.randint(1,12,12)
print(l1)
print("2D Array of Size 4X3")
print(l1.reshape(4,3))
print("3D Array of Size 2X2X3  ")
print(l1.reshape(2,2,3))
print("Transpose of 2D Array")
print(np.transpose(l1.reshape(4,3)))
print("Transpose of 2D Array and its shape")
print(np.transpose(l1.reshape(4,3)).shape)

import numpy as np

l2=np.random.randint(10,50,15)
print(l2)
print("Numbers Greater than 25 :")
print(l2[l2>25])
print("Replacing all elements less than 30 with 0 :")
l2[l2<30]=0
print(l2)
print("number of nonZero elements divisible by 5")
print(np.count_nonzero(l2[l2%5==0]))
print("number of  elements divisible by 5")
print(np.count_nonzero(l2%5==0))


# Create an array of 10 equally spaced values between 0 and 1.
import numpy as np
l1=np.linspace(0,1,10)
print("Array of 10 equally spaced values between 0 and 1 \n")
print(l1)
# Create an identity matrix of size 4x4.
import numpy as np
print(np.eye(4,dtype="int"))

# Generate a 1D array of 20 random integers between 1 and 100, sort it, and find the 5 largest elements.

import numpy as np
l3=np.random.randint(1,100,20)
print("Original Array :-")
print(l3)
print("Sorted Array :-")
print(np.sort(l3))
print("5 largest elements")
print(np.sort(l3)[-5:][::-1])

import numpy as np
import time

# Step 1: Generate two random 100x100 arrays
A = np.random.rand(100, 100)
B = np.random.rand(100, 100)

# Step 2: Start the timer
start_time = time.time()
print(f"Operation Start time :{start_time} \n")

# Step 3: Matrix multiplication
C = np.dot(A, B)
print("Matrix multiplication completed.\n")
print(C,"\n")


# Step 4: Calculate determinant
det_C = np.linalg.det(C)
print(f"Determinant of the result: {det_C} \n")


# Step 5: Try to calculate inverse if determinant is not zero
if np.isclose(det_C, 0):
    inverse_C = None
    invertible = False
else:
    inverse_C = np.linalg.inv(C)
    invertible = True

# Step 6: End the timer
end_time = time.time()
print(f"Operation end time :{end_time} \n")

elapsed_time = end_time - start_time

# Step 7: Print results
print("Matrix is invertible." if invertible else "Matrix is not invertible.")
if invertible:
    print("Inverse matrix calculated successfully.")
    print(inverse_C,"\n")
print(f"Time taken: {elapsed_time:.4f} seconds")
