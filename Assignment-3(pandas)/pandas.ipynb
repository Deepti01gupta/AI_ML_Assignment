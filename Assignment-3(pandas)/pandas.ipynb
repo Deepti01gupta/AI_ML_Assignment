import pandas as pd
data = [25, 30, 35, 40, 45]

pds=pd.Series(data)
print(" \n Original series")
print(pd)

print("\n Series with index")
pds.index=['A', 'B', 'C', 'D', 'E']
print(pds)

print("\n Displaying the first three elements of the Series.")
print(pds.head(3))

print("\n Statistics:")
print(f"Mean : {pds.mean()}")
print(f"Median : {pds.median()}")
print(f"Standard deviation : {pds.std()}")

import pandas as pd
data = {
    'Name': ['Alice', 'Bob', 'Carol', 'David', 'Eve'],
    'Age': [20, 22, 19, 21, 20],
    'Gender': ['Female', 'Male', 'Female', 'Male', 'Female'],
    'Marks': [85, 78, 92, 74, 88]
}


df = pd.DataFrame(data)
print("Displaying the Dataframe:-")
print(df)

# Display the first two rows of the DataFrame.
print("\n first two rows of the DataFrame :-")
print(df.head(2))

# Display the column names, data types, and summary statistics. 
print("\n Statisctis:-")
print(df.describe())
print("\n Columns names :-")
print(df.columns)

# Add a new column Passed that contains True if Marks >= 80 and False otherwise.
df['Passed']=df['Marks']>=80
df

import pandas as pd
data = {
    'Name': ['Alice', 'Bob', 'Carol', 'David', 'Eve'],
    'Age': [20, 22, 19, 21, 20],
    'Gender': ['Female', 'Male', 'Female', 'Male', 'Female'],
    'Marks': [85, 78, 92, 74, 88]
}

# Displaying the Dataframe:-
df = pd.DataFrame(data)
print(" \n Displaying the Dataframe:-")
print(df)

# Select and display the Name and Marks columns.
print(" \n displaying the Name and Marks columns :-")
print(df[['Name','Marks']])


# Filter and display records where Marks > 80
print(" \n displaying records where Marks > 80")
df[df['Marks']>80]

# Get the row with the maximum marks
top_scorer = df[df['Marks'] == df['Marks'].max()]
print(top_scorer)

import pandas as pd
data = {
    'Name': ['Alice', 'Bob', 'Carol', 'David', 'Eve'],
    'Age': [20, 22, 19, 21, 20],
    'Gender': ['Female', 'Male', 'Female', 'Male', 'Female'],
    'Marks': [85, 78, 92, 74, 88]
}
df=pd.DataFrame(data)

# Group the data by Gender and calculate the mean age and marks for each gender.

group=df.groupby('Gender')
print("Mean Age by Gender:")
print(group['Age'].mean())
print(" \nMean Marks by Gender:")
print(group['Marks'].mean())

# Count the number of students in each gender group.
print("\n number of students in each gender group:-")
print(group['Name'].count())

import pandas as pd
data = {
    'Name': ['Alice', 'Bob', 'Carol', 'David', 'Eve'],
    'Age': [20, 22, 19, 21, 20],
    'Gender': ['Female', 'Male', 'Female', 'Male', 'Female'],
    'Marks': [85, 78, 92, 74, 88]
}

df=pd.DataFrame(data)
print("Original Dataframe:-")
print(df)
df.loc[1, 'Marks'] = None
df.loc[4, 'Age'] = None

# Identify missing values in the DataFrame.
print(" \n Identify missing values in the DataFrame (True=missing):-")
print(df.isnull())

# Fill missing values in the Marks column with the column's mean.
df['Marks']=df['Marks'].fillna(df['Marks'].mean())

# saving data into CSV file
df.to_csv("students_data.csv", index=False)

# Read the CSV file into a new DataFrame.
df2=pd.read_csv('students_data.csv')
print(df2)

# Display the first five rows of the newly loaded DataFrame.
df2.head()

# Task 7: Titanic Dataset EDA
import pandas as pd
import matplotlib.pyplot as plt
import seaborn as sns

# Load the dataset
df = pd.read_csv("train.csv")

# ===============================
# EDA Part 1: Summary Statistics
# ===============================

print("Dataset Shape:", df.shape)
print("\nFirst 5 Rows:")
print(df.head())

print("\nData Types and Non-Null Counts:")
print(df.info())

print("\nSummary Statistics (Numerical):")
print(df.describe())

# ===============================
# EDA Part 2: Missing Values
# ===============================

print("\nMissing Values (Column-wise):")
print(df.isnull().sum())

# ===============================
# EDA Part 3: Data Visualizations
# ===============================

# Set visual theme
sns.set(style="whitegrid")

# 1. Survival Count
plt.figure(figsize=(6,4))
sns.countplot(x='Survived', data=df)
plt.title('Survival Count')
plt.show()

# 2. Survival by Gender
plt.figure(figsize=(6,4))
sns.countplot(x='Survived', hue='Sex', data=df)
plt.title('Survival by Gender')
plt.show()

# 3. Age Distribution
plt.figure(figsize=(8,5))
sns.histplot(df['Age'].dropna(), kde=True)
plt.title('Age Distribution')
plt.xlabel('Age')
plt.show()

# 4. Heatmap of Missing Values
plt.figure(figsize=(10,5))
sns.heatmap(df.isnull(), cbar=False, cmap='viridis')
plt.title('Missing Value Heatmap')
plt.show()



